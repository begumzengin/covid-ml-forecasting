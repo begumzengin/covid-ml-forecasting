{
 "cells": [
  {
   "cell_type": "markdown",
   "source": [
    "<h1>Forecasting Covid-19 Spread</h1>\n",
    "<h4>In this notebook, I studied the given Covid-19 data and used various ML techniques to anticipate the spread of the virus.</h4>"
   ],
   "metadata": {
    "collapsed": false,
    "pycharm": {
     "name": "#%% md\n"
    }
   }
  },
  {
   "cell_type": "code",
   "execution_count": 204,
   "outputs": [
    {
     "data": {
      "text/plain": "            Case  Death  Recovered  Month  Season  Weekday  Weekend  \\\nDate                                                                  \n11.03.2020     1      0          0      3       2        1        0   \n12.03.2020     1      0          0      3       2        1        0   \n13.03.2020     5      0          0      3       2        1        0   \n14.03.2020     5      0          0      3       2        0        1   \n15.03.2020     6      0          0      3       2        0        1   \n\n            OfficailHoliday  BusinessDay  Doses_admin  \\\nDate                                                    \n11.03.2020                0            0            0   \n12.03.2020                0            0            0   \n13.03.2020                0            0            0   \n14.03.2020                0            1            0   \n15.03.2020                0            1            0   \n\n            People_partially_vaccinated  People_fully_vaccinated  \nDate                                                              \n11.03.2020                            0                        0  \n12.03.2020                            0                        0  \n13.03.2020                            0                        0  \n14.03.2020                            0                        0  \n15.03.2020                            0                        0  ",
      "text/html": "<div>\n<style scoped>\n    .dataframe tbody tr th:only-of-type {\n        vertical-align: middle;\n    }\n\n    .dataframe tbody tr th {\n        vertical-align: top;\n    }\n\n    .dataframe thead th {\n        text-align: right;\n    }\n</style>\n<table border=\"1\" class=\"dataframe\">\n  <thead>\n    <tr style=\"text-align: right;\">\n      <th></th>\n      <th>Case</th>\n      <th>Death</th>\n      <th>Recovered</th>\n      <th>Month</th>\n      <th>Season</th>\n      <th>Weekday</th>\n      <th>Weekend</th>\n      <th>OfficailHoliday</th>\n      <th>BusinessDay</th>\n      <th>Doses_admin</th>\n      <th>People_partially_vaccinated</th>\n      <th>People_fully_vaccinated</th>\n    </tr>\n    <tr>\n      <th>Date</th>\n      <th></th>\n      <th></th>\n      <th></th>\n      <th></th>\n      <th></th>\n      <th></th>\n      <th></th>\n      <th></th>\n      <th></th>\n      <th></th>\n      <th></th>\n      <th></th>\n    </tr>\n  </thead>\n  <tbody>\n    <tr>\n      <th>11.03.2020</th>\n      <td>1</td>\n      <td>0</td>\n      <td>0</td>\n      <td>3</td>\n      <td>2</td>\n      <td>1</td>\n      <td>0</td>\n      <td>0</td>\n      <td>0</td>\n      <td>0</td>\n      <td>0</td>\n      <td>0</td>\n    </tr>\n    <tr>\n      <th>12.03.2020</th>\n      <td>1</td>\n      <td>0</td>\n      <td>0</td>\n      <td>3</td>\n      <td>2</td>\n      <td>1</td>\n      <td>0</td>\n      <td>0</td>\n      <td>0</td>\n      <td>0</td>\n      <td>0</td>\n      <td>0</td>\n    </tr>\n    <tr>\n      <th>13.03.2020</th>\n      <td>5</td>\n      <td>0</td>\n      <td>0</td>\n      <td>3</td>\n      <td>2</td>\n      <td>1</td>\n      <td>0</td>\n      <td>0</td>\n      <td>0</td>\n      <td>0</td>\n      <td>0</td>\n      <td>0</td>\n    </tr>\n    <tr>\n      <th>14.03.2020</th>\n      <td>5</td>\n      <td>0</td>\n      <td>0</td>\n      <td>3</td>\n      <td>2</td>\n      <td>0</td>\n      <td>1</td>\n      <td>0</td>\n      <td>1</td>\n      <td>0</td>\n      <td>0</td>\n      <td>0</td>\n    </tr>\n    <tr>\n      <th>15.03.2020</th>\n      <td>6</td>\n      <td>0</td>\n      <td>0</td>\n      <td>3</td>\n      <td>2</td>\n      <td>0</td>\n      <td>1</td>\n      <td>0</td>\n      <td>1</td>\n      <td>0</td>\n      <td>0</td>\n      <td>0</td>\n    </tr>\n  </tbody>\n</table>\n</div>"
     },
     "execution_count": 204,
     "metadata": {},
     "output_type": "execute_result"
    }
   ],
   "source": [
    "import pandas as pd\n",
    "import matplotlib.pyplot as plt\n",
    "import numpy as np\n",
    "import seaborn as sns\n",
    "from sklearn.preprocessing import PolynomialFeatures\n",
    "from sklearn.model_selection import train_test_split\n",
    "from sklearn import linear_model\n",
    "\n",
    "covid_data = pd.read_csv('../Datamind - Covid - ml_forecasting_case_data/ml_covid_case_data.csv',sep=\";\",index_col='Date',infer_datetime_format=True)\n",
    "covid_data.head()"
   ],
   "metadata": {
    "collapsed": false,
    "pycharm": {
     "name": "#%%\n"
    }
   }
  },
  {
   "cell_type": "markdown",
   "source": [
    "<h4>Firstly, I wanted to use only a few of the columns to showcase the spread of Covid-19 so far.</h4>"
   ],
   "metadata": {
    "collapsed": false,
    "pycharm": {
     "name": "#%% md\n"
    }
   }
  },
  {
   "cell_type": "code",
   "execution_count": 205,
   "outputs": [],
   "source": [
    "new_columns = ['Case', 'Death', 'Recovered', 'People_partially_vaccinated', 'People_fully_vaccinated']\n",
    "covid_data = covid_data.drop([c for c in covid_data.columns if\n",
    "                              c not in new_columns], axis=1)"
   ],
   "metadata": {
    "collapsed": false,
    "pycharm": {
     "name": "#%%\n"
    }
   }
  },
  {
   "cell_type": "code",
   "execution_count": 206,
   "outputs": [],
   "source": [
    "new_covid_data = pd.DataFrame({'Case': covid_data['Case'],\n",
    "                               'Death': covid_data['Death'],\n",
    "                               'Recovered': covid_data['Recovered'],\n",
    "                               'People_partially_vaccinated': covid_data['People_partially_vaccinated'],\n",
    "                               'People_fully_vaccinated' : covid_data['People_fully_vaccinated']})"
   ],
   "metadata": {
    "collapsed": false,
    "pycharm": {
     "name": "#%%\n"
    }
   }
  },
  {
   "cell_type": "code",
   "execution_count": 207,
   "outputs": [
    {
     "data": {
      "text/plain": "            DayNo  Weekday  Weekend  FullCurfew  PartialCurfew  UnderTwenty  \\\nDate                                                                          \n11.03.2020      3        1        0           0              0          NaN   \n12.03.2020      4        1        0           0              0          NaN   \n13.03.2020      5        1        0           0              0          NaN   \n14.03.2020      6        0        1           0              0          NaN   \n15.03.2020      7        0        1           0              0          NaN   \n\n            OverSixtyFive CurfewStartsAt CurfewEndsAt  \nDate                                                   \n11.03.2020            NaN            NaN          NaN  \n12.03.2020            NaN            NaN          NaN  \n13.03.2020            NaN            NaN          NaN  \n14.03.2020            NaN            NaN          NaN  \n15.03.2020            NaN            NaN          NaN  ",
      "text/html": "<div>\n<style scoped>\n    .dataframe tbody tr th:only-of-type {\n        vertical-align: middle;\n    }\n\n    .dataframe tbody tr th {\n        vertical-align: top;\n    }\n\n    .dataframe thead th {\n        text-align: right;\n    }\n</style>\n<table border=\"1\" class=\"dataframe\">\n  <thead>\n    <tr style=\"text-align: right;\">\n      <th></th>\n      <th>DayNo</th>\n      <th>Weekday</th>\n      <th>Weekend</th>\n      <th>FullCurfew</th>\n      <th>PartialCurfew</th>\n      <th>UnderTwenty</th>\n      <th>OverSixtyFive</th>\n      <th>CurfewStartsAt</th>\n      <th>CurfewEndsAt</th>\n    </tr>\n    <tr>\n      <th>Date</th>\n      <th></th>\n      <th></th>\n      <th></th>\n      <th></th>\n      <th></th>\n      <th></th>\n      <th></th>\n      <th></th>\n      <th></th>\n    </tr>\n  </thead>\n  <tbody>\n    <tr>\n      <th>11.03.2020</th>\n      <td>3</td>\n      <td>1</td>\n      <td>0</td>\n      <td>0</td>\n      <td>0</td>\n      <td>NaN</td>\n      <td>NaN</td>\n      <td>NaN</td>\n      <td>NaN</td>\n    </tr>\n    <tr>\n      <th>12.03.2020</th>\n      <td>4</td>\n      <td>1</td>\n      <td>0</td>\n      <td>0</td>\n      <td>0</td>\n      <td>NaN</td>\n      <td>NaN</td>\n      <td>NaN</td>\n      <td>NaN</td>\n    </tr>\n    <tr>\n      <th>13.03.2020</th>\n      <td>5</td>\n      <td>1</td>\n      <td>0</td>\n      <td>0</td>\n      <td>0</td>\n      <td>NaN</td>\n      <td>NaN</td>\n      <td>NaN</td>\n      <td>NaN</td>\n    </tr>\n    <tr>\n      <th>14.03.2020</th>\n      <td>6</td>\n      <td>0</td>\n      <td>1</td>\n      <td>0</td>\n      <td>0</td>\n      <td>NaN</td>\n      <td>NaN</td>\n      <td>NaN</td>\n      <td>NaN</td>\n    </tr>\n    <tr>\n      <th>15.03.2020</th>\n      <td>7</td>\n      <td>0</td>\n      <td>1</td>\n      <td>0</td>\n      <td>0</td>\n      <td>NaN</td>\n      <td>NaN</td>\n      <td>NaN</td>\n      <td>NaN</td>\n    </tr>\n  </tbody>\n</table>\n</div>"
     },
     "execution_count": 207,
     "metadata": {},
     "output_type": "execute_result"
    }
   ],
   "source": [
    "curfew_data = pd.read_csv('/Users/begumzengin/Desktop/Datamind - Covid - ml_forecasting_case_data/curfew_csv.csv', sep=';', index_col='Date',infer_datetime_format=True)\n",
    "curfew_data.head()"
   ],
   "metadata": {
    "collapsed": false,
    "pycharm": {
     "name": "#%%\n"
    }
   }
  },
  {
   "cell_type": "markdown",
   "source": [
    "<h4>I prepared the data and omitted the columns with blank rows such as UnderTwenty, OverSixtyFive, CurfewStartsAt and CurfewEndsAt.</h4>"
   ],
   "metadata": {
    "collapsed": false,
    "pycharm": {
     "name": "#%% md\n"
    }
   }
  },
  {
   "cell_type": "code",
   "execution_count": 208,
   "outputs": [],
   "source": [
    "curfew_columns = ['FullCurfew', 'PartialCurfew']\n",
    "curfew_data = curfew_data.drop([w for w in curfew_data.columns if\n",
    "                                w not in curfew_columns], axis=1)"
   ],
   "metadata": {
    "collapsed": false,
    "pycharm": {
     "name": "#%%\n"
    }
   }
  },
  {
   "cell_type": "markdown",
   "source": [
    "<h4>Predicting future case data:</h4>\n"
   ],
   "metadata": {
    "collapsed": false,
    "pycharm": {
     "name": "#%% md\n"
    }
   }
  },
  {
   "cell_type": "code",
   "execution_count": 220,
   "outputs": [
    {
     "data": {
      "text/plain": "<Figure size 432x288 with 1 Axes>",
      "image/png": "[encoded data removed]"
     },
     "metadata": {},
     "output_type": "display_data"
    }
   ],
   "source": [
    "\n",
    "x1, x2, x3, x4, x5, x6 = np.array(new_covid_data['Death']),np.array(new_covid_data['Recovered']),np.array(new_covid_data['People_partially_vaccinated']),np.array(new_covid_data['People_fully_vaccinated']), np.array(curfew_data['FullCurfew']).reshape(-1, 1), np.array(curfew_data['PartialCurfew']).reshape(-1,1)\n",
    "x1,x2,x3,x4 = x1.reshape(-1,1),x2.reshape(-1,1),x3.reshape(-1,1),x4.reshape(-1,1)\n",
    "final_x = np.concatenate((x1,x2,x3,x4,x5,x6),axis=1)\n",
    "y = np.array(covid_data['Case'])\n",
    "y=y.reshape(-1,1)\n",
    "\n",
    "\n",
    "plt.plot(y, '-m')\n",
    "plt.show()"
   ],
   "metadata": {
    "collapsed": false,
    "pycharm": {
     "name": "#%%\n"
    }
   }
  },
  {
   "cell_type": "code",
   "execution_count": 216,
   "outputs": [
    {
     "name": "stdout",
     "output_type": "stream",
     "text": [
      "Accuracy: 98.759 %\n"
     ]
    }
   ],
   "source": [
    "model = linear_model.LinearRegression()\n",
    "model.fit(final_x, y)\n",
    "accuracy = model.score(final_x, y)\n",
    "print(f'Accuracy: {round(accuracy*100,3)} %')"
   ],
   "metadata": {
    "collapsed": false,
    "pycharm": {
     "name": "#%%\n"
    }
   }
  },
  {
   "cell_type": "code",
   "execution_count": 217,
   "outputs": [],
   "source": [
    "y0 = model.predict(final_x)"
   ],
   "metadata": {
    "collapsed": false,
    "pycharm": {
     "name": "#%%\n"
    }
   }
  },
  {
   "cell_type": "code",
   "execution_count": 218,
   "outputs": [
    {
     "data": {
      "text/plain": "<Figure size 432x288 with 1 Axes>",
      "image/png": "[encoded data removed]"
     },
     "metadata": {},
     "output_type": "display_data"
    }
   ],
   "source": [
    "plt.plot(y0, '--m')\n",
    "plt.plot(y)\n",
    "plt.show()"
   ],
   "metadata": {
    "collapsed": false,
    "pycharm": {
     "name": "#%%\n"
    }
   }
  },
  {
   "cell_type": "markdown",
   "source": [
    "<h4>Prediction of the last 30 days:</h4>"
   ],
   "metadata": {
    "collapsed": false,
    "pycharm": {
     "name": "#%% md\n"
    }
   }
  },
  {
   "cell_type": "code",
   "execution_count": 219,
   "outputs": [
    {
     "data": {
      "text/plain": "<Figure size 432x288 with 1 Axes>",
      "image/png": "[encoded data removed]"
     },
     "metadata": {},
     "output_type": "display_data"
    }
   ],
   "source": [
    "X_train, X_test, y_train, y_test = final_x[:-30], final_x[-30:], y[:-30], y[-30:]\n",
    "\n",
    "new_model = linear_model.LinearRegression()\n",
    "new_model.fit(X_train, y_train)\n",
    "\n",
    "pred = new_model.predict(X_test)\n",
    "plt.plot(pred)\n",
    "plt.plot(y_test)\n",
    "plt.show()"
   ],
   "metadata": {
    "collapsed": false,
    "pycharm": {
     "name": "#%%\n"
    }
   }
  },
  {
   "cell_type": "markdown",
   "source": [
    "<h4>There is a slight difference between the 30-day predicted case count and the actual case count.</h4>\n"
   ],
   "metadata": {
    "collapsed": false,
    "pycharm": {
     "name": "#%% md\n"
    }
   }
  }
 ],
 "metadata": {
  "kernelspec": {
   "display_name": "Python 3",
   "language": "python",
   "name": "python3"
  },
  "language_info": {
   "codemirror_mode": {
    "name": "ipython",
    "version": 2
   },
   "file_extension": ".py",
   "mimetype": "text/x-python",
   "name": "python",
   "nbconvert_exporter": "python",
   "pygments_lexer": "ipython2",
   "version": "2.7.6"
  }
 },
 "nbformat": 4,
 "nbformat_minor": 0
}